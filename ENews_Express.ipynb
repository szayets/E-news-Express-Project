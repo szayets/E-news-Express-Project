{
 "cells": [
  {
   "cell_type": "markdown",
   "id": "6yDxo9u0d9Na",
   "metadata": {
    "id": "6yDxo9u0d9Na"
   },
   "source": [
    "### E-news Express\n"
   ]
  },
  {
   "cell_type": "code",
   "execution_count": 3,
   "id": "r_5zUIePGS-1",
   "metadata": {
    "id": "r_5zUIePGS-1"
   },
   "outputs": [],
   "source": [
    "# The libraries with the specified version.\n",
    "#!pip install numpy==1.25.2 pandas==1.5.3 matplotlib==3.7.1 seaborn==0.13.1 scipy==1.11.4 -q --user"
   ]
  },
  {
   "cell_type": "code",
   "execution_count": 10,
   "id": "658c5dec",
   "metadata": {
    "id": "658c5dec"
   },
   "outputs": [],
   "source": [
    "# Importing necessary libraries \n",
    "import numpy as np\n",
    "import pandas as pd\n",
    "from matplotlib import pyplot as plt\n",
    "import seaborn as sns\n",
    "from scipy import stats"
   ]
  },
  {
   "cell_type": "code",
   "execution_count": 13,
   "id": "d3b95640",
   "metadata": {
    "id": "d3b95640"
   },
   "outputs": [],
   "source": [
    "df = pd.read_csv(\"abtest.csv\")"
   ]
  },
  {
   "cell_type": "code",
   "execution_count": 17,
   "id": "e1ad11d4",
   "metadata": {
    "id": "e1ad11d4"
   },
   "outputs": [
    {
     "data": {
      "text/html": [
       "<div>\n",
       "<style scoped>\n",
       "    .dataframe tbody tr th:only-of-type {\n",
       "        vertical-align: middle;\n",
       "    }\n",
       "\n",
       "    .dataframe tbody tr th {\n",
       "        vertical-align: top;\n",
       "    }\n",
       "\n",
       "    .dataframe thead th {\n",
       "        text-align: right;\n",
       "    }\n",
       "</style>\n",
       "<table border=\"1\" class=\"dataframe\">\n",
       "  <thead>\n",
       "    <tr style=\"text-align: right;\">\n",
       "      <th></th>\n",
       "      <th>user_id</th>\n",
       "      <th>group</th>\n",
       "      <th>landing_page</th>\n",
       "      <th>time_spent_on_the_page</th>\n",
       "      <th>converted</th>\n",
       "      <th>language_preferred</th>\n",
       "    </tr>\n",
       "  </thead>\n",
       "  <tbody>\n",
       "    <tr>\n",
       "      <th>0</th>\n",
       "      <td>546592</td>\n",
       "      <td>control</td>\n",
       "      <td>old</td>\n",
       "      <td>3.48</td>\n",
       "      <td>no</td>\n",
       "      <td>Spanish</td>\n",
       "    </tr>\n",
       "    <tr>\n",
       "      <th>1</th>\n",
       "      <td>546468</td>\n",
       "      <td>treatment</td>\n",
       "      <td>new</td>\n",
       "      <td>7.13</td>\n",
       "      <td>yes</td>\n",
       "      <td>English</td>\n",
       "    </tr>\n",
       "    <tr>\n",
       "      <th>2</th>\n",
       "      <td>546462</td>\n",
       "      <td>treatment</td>\n",
       "      <td>new</td>\n",
       "      <td>4.40</td>\n",
       "      <td>no</td>\n",
       "      <td>Spanish</td>\n",
       "    </tr>\n",
       "    <tr>\n",
       "      <th>3</th>\n",
       "      <td>546567</td>\n",
       "      <td>control</td>\n",
       "      <td>old</td>\n",
       "      <td>3.02</td>\n",
       "      <td>no</td>\n",
       "      <td>French</td>\n",
       "    </tr>\n",
       "    <tr>\n",
       "      <th>4</th>\n",
       "      <td>546459</td>\n",
       "      <td>treatment</td>\n",
       "      <td>new</td>\n",
       "      <td>4.75</td>\n",
       "      <td>yes</td>\n",
       "      <td>Spanish</td>\n",
       "    </tr>\n",
       "    <tr>\n",
       "      <th>...</th>\n",
       "      <td>...</td>\n",
       "      <td>...</td>\n",
       "      <td>...</td>\n",
       "      <td>...</td>\n",
       "      <td>...</td>\n",
       "      <td>...</td>\n",
       "    </tr>\n",
       "    <tr>\n",
       "      <th>95</th>\n",
       "      <td>546446</td>\n",
       "      <td>treatment</td>\n",
       "      <td>new</td>\n",
       "      <td>5.15</td>\n",
       "      <td>no</td>\n",
       "      <td>Spanish</td>\n",
       "    </tr>\n",
       "    <tr>\n",
       "      <th>96</th>\n",
       "      <td>546544</td>\n",
       "      <td>control</td>\n",
       "      <td>old</td>\n",
       "      <td>6.52</td>\n",
       "      <td>yes</td>\n",
       "      <td>English</td>\n",
       "    </tr>\n",
       "    <tr>\n",
       "      <th>97</th>\n",
       "      <td>546472</td>\n",
       "      <td>treatment</td>\n",
       "      <td>new</td>\n",
       "      <td>7.07</td>\n",
       "      <td>yes</td>\n",
       "      <td>Spanish</td>\n",
       "    </tr>\n",
       "    <tr>\n",
       "      <th>98</th>\n",
       "      <td>546481</td>\n",
       "      <td>treatment</td>\n",
       "      <td>new</td>\n",
       "      <td>6.20</td>\n",
       "      <td>yes</td>\n",
       "      <td>Spanish</td>\n",
       "    </tr>\n",
       "    <tr>\n",
       "      <th>99</th>\n",
       "      <td>546483</td>\n",
       "      <td>treatment</td>\n",
       "      <td>new</td>\n",
       "      <td>5.86</td>\n",
       "      <td>yes</td>\n",
       "      <td>English</td>\n",
       "    </tr>\n",
       "  </tbody>\n",
       "</table>\n",
       "<p>100 rows × 6 columns</p>\n",
       "</div>"
      ],
      "text/plain": [
       "    user_id      group landing_page  time_spent_on_the_page converted  \\\n",
       "0    546592    control          old                    3.48        no   \n",
       "1    546468  treatment          new                    7.13       yes   \n",
       "2    546462  treatment          new                    4.40        no   \n",
       "3    546567    control          old                    3.02        no   \n",
       "4    546459  treatment          new                    4.75       yes   \n",
       "..      ...        ...          ...                     ...       ...   \n",
       "95   546446  treatment          new                    5.15        no   \n",
       "96   546544    control          old                    6.52       yes   \n",
       "97   546472  treatment          new                    7.07       yes   \n",
       "98   546481  treatment          new                    6.20       yes   \n",
       "99   546483  treatment          new                    5.86       yes   \n",
       "\n",
       "   language_preferred  \n",
       "0             Spanish  \n",
       "1             English  \n",
       "2             Spanish  \n",
       "3              French  \n",
       "4             Spanish  \n",
       "..                ...  \n",
       "95            Spanish  \n",
       "96            English  \n",
       "97            Spanish  \n",
       "98            Spanish  \n",
       "99            English  \n",
       "\n",
       "[100 rows x 6 columns]"
      ]
     },
     "execution_count": 17,
     "metadata": {},
     "output_type": "execute_result"
    }
   ],
   "source": [
    "# Reading the first and last five rows of our data frame\n",
    "df"
   ]
  },
  {
   "cell_type": "code",
   "execution_count": 19,
   "id": "5f09a668-8b7b-4f09-a6fe-965894336b99",
   "metadata": {},
   "outputs": [
    {
     "data": {
      "text/plain": [
       "(100, 6)"
      ]
     },
     "execution_count": 19,
     "metadata": {},
     "output_type": "execute_result"
    }
   ],
   "source": [
    "# Checking the number of rows and columns in the data frame\n",
    "df.shape"
   ]
  },
  {
   "cell_type": "markdown",
   "id": "f9d390a0-dc88-4f98-b312-d9246d0e8e7f",
   "metadata": {},
   "source": [
    "The data frame has 100 rows and 6 columns"
   ]
  },
  {
   "cell_type": "code",
   "execution_count": 21,
   "id": "5ceb1042-8493-4182-8e41-197e7baf0a62",
   "metadata": {},
   "outputs": [
    {
     "name": "stdout",
     "output_type": "stream",
     "text": [
      "<class 'pandas.core.frame.DataFrame'>\n",
      "RangeIndex: 100 entries, 0 to 99\n",
      "Data columns (total 6 columns):\n",
      " #   Column                  Non-Null Count  Dtype  \n",
      "---  ------                  --------------  -----  \n",
      " 0   user_id                 100 non-null    int64  \n",
      " 1   group                   100 non-null    object \n",
      " 2   landing_page            100 non-null    object \n",
      " 3   time_spent_on_the_page  100 non-null    float64\n",
      " 4   converted               100 non-null    object \n",
      " 5   language_preferred      100 non-null    object \n",
      "dtypes: float64(1), int64(1), object(4)\n",
      "memory usage: 4.8+ KB\n"
     ]
    }
   ],
   "source": [
    "# Checking columns data types\n",
    "df.info()"
   ]
  },
  {
   "cell_type": "markdown",
   "id": "1e9d37ae-0385-4d34-a595-b56457546d74",
   "metadata": {},
   "source": [
    "The dataset has six columns. Four of them are object, one  integer, and one float data types."
   ]
  },
  {
   "cell_type": "code",
   "execution_count": 24,
   "id": "ab4aa800-328f-475d-8a33-c6d2507dd460",
   "metadata": {},
   "outputs": [
    {
     "data": {
      "text/html": [
       "<div>\n",
       "<style scoped>\n",
       "    .dataframe tbody tr th:only-of-type {\n",
       "        vertical-align: middle;\n",
       "    }\n",
       "\n",
       "    .dataframe tbody tr th {\n",
       "        vertical-align: top;\n",
       "    }\n",
       "\n",
       "    .dataframe thead th {\n",
       "        text-align: right;\n",
       "    }\n",
       "</style>\n",
       "<table border=\"1\" class=\"dataframe\">\n",
       "  <thead>\n",
       "    <tr style=\"text-align: right;\">\n",
       "      <th></th>\n",
       "      <th>user_id</th>\n",
       "      <th>group</th>\n",
       "      <th>landing_page</th>\n",
       "      <th>time_spent_on_the_page</th>\n",
       "      <th>converted</th>\n",
       "      <th>language_preferred</th>\n",
       "    </tr>\n",
       "  </thead>\n",
       "  <tbody>\n",
       "    <tr>\n",
       "      <th>count</th>\n",
       "      <td>100.000000</td>\n",
       "      <td>100</td>\n",
       "      <td>100</td>\n",
       "      <td>100.000000</td>\n",
       "      <td>100</td>\n",
       "      <td>100</td>\n",
       "    </tr>\n",
       "    <tr>\n",
       "      <th>unique</th>\n",
       "      <td>NaN</td>\n",
       "      <td>2</td>\n",
       "      <td>2</td>\n",
       "      <td>NaN</td>\n",
       "      <td>2</td>\n",
       "      <td>3</td>\n",
       "    </tr>\n",
       "    <tr>\n",
       "      <th>top</th>\n",
       "      <td>NaN</td>\n",
       "      <td>control</td>\n",
       "      <td>old</td>\n",
       "      <td>NaN</td>\n",
       "      <td>yes</td>\n",
       "      <td>Spanish</td>\n",
       "    </tr>\n",
       "    <tr>\n",
       "      <th>freq</th>\n",
       "      <td>NaN</td>\n",
       "      <td>50</td>\n",
       "      <td>50</td>\n",
       "      <td>NaN</td>\n",
       "      <td>54</td>\n",
       "      <td>34</td>\n",
       "    </tr>\n",
       "    <tr>\n",
       "      <th>mean</th>\n",
       "      <td>546517.000000</td>\n",
       "      <td>NaN</td>\n",
       "      <td>NaN</td>\n",
       "      <td>5.377800</td>\n",
       "      <td>NaN</td>\n",
       "      <td>NaN</td>\n",
       "    </tr>\n",
       "    <tr>\n",
       "      <th>std</th>\n",
       "      <td>52.295779</td>\n",
       "      <td>NaN</td>\n",
       "      <td>NaN</td>\n",
       "      <td>2.378166</td>\n",
       "      <td>NaN</td>\n",
       "      <td>NaN</td>\n",
       "    </tr>\n",
       "    <tr>\n",
       "      <th>min</th>\n",
       "      <td>546443.000000</td>\n",
       "      <td>NaN</td>\n",
       "      <td>NaN</td>\n",
       "      <td>0.190000</td>\n",
       "      <td>NaN</td>\n",
       "      <td>NaN</td>\n",
       "    </tr>\n",
       "    <tr>\n",
       "      <th>25%</th>\n",
       "      <td>546467.750000</td>\n",
       "      <td>NaN</td>\n",
       "      <td>NaN</td>\n",
       "      <td>3.880000</td>\n",
       "      <td>NaN</td>\n",
       "      <td>NaN</td>\n",
       "    </tr>\n",
       "    <tr>\n",
       "      <th>50%</th>\n",
       "      <td>546492.500000</td>\n",
       "      <td>NaN</td>\n",
       "      <td>NaN</td>\n",
       "      <td>5.415000</td>\n",
       "      <td>NaN</td>\n",
       "      <td>NaN</td>\n",
       "    </tr>\n",
       "    <tr>\n",
       "      <th>75%</th>\n",
       "      <td>546567.250000</td>\n",
       "      <td>NaN</td>\n",
       "      <td>NaN</td>\n",
       "      <td>7.022500</td>\n",
       "      <td>NaN</td>\n",
       "      <td>NaN</td>\n",
       "    </tr>\n",
       "    <tr>\n",
       "      <th>max</th>\n",
       "      <td>546592.000000</td>\n",
       "      <td>NaN</td>\n",
       "      <td>NaN</td>\n",
       "      <td>10.710000</td>\n",
       "      <td>NaN</td>\n",
       "      <td>NaN</td>\n",
       "    </tr>\n",
       "  </tbody>\n",
       "</table>\n",
       "</div>"
      ],
      "text/plain": [
       "              user_id    group landing_page  time_spent_on_the_page converted  \\\n",
       "count      100.000000      100          100              100.000000       100   \n",
       "unique            NaN        2            2                     NaN         2   \n",
       "top               NaN  control          old                     NaN       yes   \n",
       "freq              NaN       50           50                     NaN        54   \n",
       "mean    546517.000000      NaN          NaN                5.377800       NaN   \n",
       "std         52.295779      NaN          NaN                2.378166       NaN   \n",
       "min     546443.000000      NaN          NaN                0.190000       NaN   \n",
       "25%     546467.750000      NaN          NaN                3.880000       NaN   \n",
       "50%     546492.500000      NaN          NaN                5.415000       NaN   \n",
       "75%     546567.250000      NaN          NaN                7.022500       NaN   \n",
       "max     546592.000000      NaN          NaN               10.710000       NaN   \n",
       "\n",
       "       language_preferred  \n",
       "count                 100  \n",
       "unique                  3  \n",
       "top               Spanish  \n",
       "freq                   34  \n",
       "mean                  NaN  \n",
       "std                   NaN  \n",
       "min                   NaN  \n",
       "25%                   NaN  \n",
       "50%                   NaN  \n",
       "75%                   NaN  \n",
       "max                   NaN  "
      ]
     },
     "execution_count": 24,
     "metadata": {},
     "output_type": "execute_result"
    }
   ],
   "source": [
    "# Checking statistical summaries of the variables\n",
    "df.describe(include=\"all\")"
   ]
  },
  {
   "cell_type": "markdown",
   "id": "edb8752c-d19d-4e88-b57a-db8bb76dccc5",
   "metadata": {},
   "source": [
    "The important statistical insights regarding the time spent on the page are:\n",
    "- mean (5.38 min)\n",
    "- standard deviation (2.38 min)\n",
    "- shortest time (0.19 min)\n",
    "- longest (10.71 min)\n",
    "  \n",
    "  note (the above statistical data are pulled out of the whole data set, not considering the old or new landing pages)\n",
    "\n",
    "  Also, statistical insights show that we have two landing pages, two converted categories, and three language categories.\n",
    "  "
   ]
  },
  {
   "cell_type": "code",
   "execution_count": 27,
   "id": "7c152ce2-ccfc-4d67-9457-e699ba26ca6e",
   "metadata": {},
   "outputs": [
    {
     "data": {
      "text/plain": [
       "user_id                   0\n",
       "group                     0\n",
       "landing_page              0\n",
       "time_spent_on_the_page    0\n",
       "converted                 0\n",
       "language_preferred        0\n",
       "dtype: int64"
      ]
     },
     "execution_count": 27,
     "metadata": {},
     "output_type": "execute_result"
    }
   ],
   "source": [
    "# Checking for missing values\n",
    "df.isnull().sum()"
   ]
  },
  {
   "cell_type": "markdown",
   "id": "0f644df9-26fd-4004-9e31-d1a5bad03899",
   "metadata": {},
   "source": [
    "The dataset has no missing values."
   ]
  },
  {
   "cell_type": "code",
   "execution_count": 30,
   "id": "0b65e6eb-a792-49d9-b919-8e8d708fc079",
   "metadata": {},
   "outputs": [
    {
     "data": {
      "text/plain": [
       "0"
      ]
     },
     "execution_count": 30,
     "metadata": {},
     "output_type": "execute_result"
    }
   ],
   "source": [
    "# Checking for duplicates in the data set\n",
    "df.duplicated().sum()"
   ]
  },
  {
   "cell_type": "markdown",
   "id": "d4c7b19e-1165-4860-b625-b9a15367d130",
   "metadata": {},
   "source": [
    "The data set has no duplicates"
   ]
  },
  {
   "cell_type": "markdown",
   "id": "68f3b2c9",
   "metadata": {
    "id": "68f3b2c9"
   },
   "source": [
    "### Univariate Analysis"
   ]
  },
  {
   "cell_type": "code",
   "execution_count": 34,
   "id": "bc592d61-7453-4129-a3a2-7627f54c362c",
   "metadata": {},
   "outputs": [
    {
     "data": {
      "text/plain": [
       "control      50\n",
       "treatment    50\n",
       "Name: group, dtype: int64"
      ]
     },
     "execution_count": 34,
     "metadata": {},
     "output_type": "execute_result"
    }
   ],
   "source": [
    "# Checking the count of unique values in the coloumn \"group\"\n",
    "df.group.value_counts()"
   ]
  },
  {
   "cell_type": "markdown",
   "id": "03c6edbb-fef2-4b3b-9eea-92e3620dff6b",
   "metadata": {},
   "source": [
    "The coloumn \"group\" has two categorical values: \"control\" and \"treatment\". Each of them appears 50 times as expected"
   ]
  },
  {
   "cell_type": "code",
   "execution_count": 40,
   "id": "ed2191ff-7d00-4617-8d70-963674e41d89",
   "metadata": {},
   "outputs": [
    {
     "data": {
      "text/plain": [
       "old    50\n",
       "new    50\n",
       "Name: landing_page, dtype: int64"
      ]
     },
     "execution_count": 40,
     "metadata": {},
     "output_type": "execute_result"
    }
   ],
   "source": [
    "# Checking unique values in the coloumn \"landing_page\"\n",
    "df.landing_page.value_counts()"
   ]
  },
  {
   "cell_type": "markdown",
   "id": "f7dadb05-d9da-46af-a37d-a1f37704a984",
   "metadata": {},
   "source": [
    "The coloumn \"landing_page\" has two categorical values: \"old\" and \"new\". Each of them appears50 times as expected"
   ]
  },
  {
   "cell_type": "code",
   "execution_count": 43,
   "id": "fafe2fd6-bf4f-4293-9b57-216392bef9e7",
   "metadata": {},
   "outputs": [
    {
     "data": {
      "text/plain": [
       "yes    54\n",
       "no     46\n",
       "Name: converted, dtype: int64"
      ]
     },
     "execution_count": 43,
     "metadata": {},
     "output_type": "execute_result"
    }
   ],
   "source": [
    "# Checking unique values in the coloumn \"converted\"\n",
    "df.converted.value_counts()"
   ]
  },
  {
   "cell_type": "markdown",
   "id": "28d6a81f-72b6-463e-967c-99c61782ef54",
   "metadata": {},
   "source": [
    "The column \"converted\" contains two values: \"yes\" which appears 54 times, and \"no\" which appears 46 times."
   ]
  },
  {
   "cell_type": "code",
   "execution_count": 46,
   "id": "1c135c83-a608-4e78-963c-d2470acac9b9",
   "metadata": {},
   "outputs": [
    {
     "data": {
      "text/plain": [
       "Spanish    34\n",
       "French     34\n",
       "English    32\n",
       "Name: language_preferred, dtype: int64"
      ]
     },
     "execution_count": 46,
     "metadata": {},
     "output_type": "execute_result"
    }
   ],
   "source": [
    "# Checking unique values in the coloumn \"language_preferred\"\n",
    "df.language_preferred.value_counts()"
   ]
  },
  {
   "cell_type": "markdown",
   "id": "bee826c9-ac7d-4e99-a5c8-41c7125f49f6",
   "metadata": {},
   "source": [
    "The column \"language_preferred\" contains three values: \"Spanish\" which appears 34 times, \"French\" which appears 34 times and \"English\" which appears 32 times"
   ]
  },
  {
   "cell_type": "code",
   "execution_count": 74,
   "id": "5b4f7fd7-bdee-4711-b9c2-330bd49036e0",
   "metadata": {},
   "outputs": [
    {
     "data": {
      "image/png": "[encoded data removed]",
      "text/plain": [
       "<Figure size 640x480 with 1 Axes>"
      ]
     },
     "metadata": {},
     "output_type": "display_data"
    },
    {
     "data": {
      "image/png": "[encoded data removed]",
      "text/plain": [
       "<Figure size 640x480 with 1 Axes>"
      ]
     },
     "metadata": {},
     "output_type": "display_data"
    }
   ],
   "source": [
    "# Visualizing the column \"time spent on the page\"\n",
    "sns.histplot(data=df,x=\"time_spent_on_the_page\")\n",
    "plt.show()\n",
    "sns.boxplot(data=df,x=\"time_spent_on_the_page\")\n",
    "plt.show()"
   ]
  },
  {
   "cell_type": "markdown",
   "id": "13222fe4-4f26-4ba2-8eb4-cd5866c041e2",
   "metadata": {
    "id": "1932d0f3"
   },
   "source": [
    "From the visualizations above we can tell that most frequently, users are spending between 4 and 7 minutes on the landing page, with the median time being approximately 5,5 minutes"
   ]
  },
  {
   "cell_type": "markdown",
   "id": "fad2de2f",
   "metadata": {
    "id": "fad2de2f"
   },
   "source": [
    "### Bivariate Analysis"
   ]
  },
  {
   "cell_type": "code",
   "execution_count": 76,
   "id": "4c6e27a8-53f5-40f8-ba16-3e80c70fee70",
   "metadata": {},
   "outputs": [
    {
     "data": {
      "image/png": "[encoded data removed]",
      "text/plain": [
       "<Figure size 640x480 with 1 Axes>"
      ]
     },
     "metadata": {},
     "output_type": "display_data"
    }
   ],
   "source": [
    "# Visualizing the user's time spent on old and new landing pages\n",
    "\n",
    "sns.boxplot(data=df,x=\"landing_page\", y=\"time_spent_on_the_page\");"
   ]
  },
  {
   "cell_type": "markdown",
   "id": "c9bc88d1-e79b-467f-ac19-968b626202f9",
   "metadata": {},
   "source": [
    "The graph above shows that users are spending more time on the new lending page compared to the old landing page."
   ]
  },
  {
   "cell_type": "code",
   "execution_count": 79,
   "id": "b94a9065-3e59-4153-9c21-a10718764a51",
   "metadata": {},
   "outputs": [
    {
     "data": {
      "image/png": "[encoded data removed]",
      "text/plain": [
       "<Figure size 640x480 with 1 Axes>"
      ]
     },
     "metadata": {},
     "output_type": "display_data"
    }
   ],
   "source": [
    "# Creating visualization to show the relationship between converted users and time spent on the page\n",
    "sns.boxplot(data = df, x = \"converted\", y = \"time_spent_on_the_page\");"
   ]
  },
  {
   "cell_type": "markdown",
   "id": "373da369-722f-438d-9fde-e0ba1ba786ba",
   "metadata": {},
   "source": [
    "The graph above shows that converted users spend more time on the page compared to not converted users"
   ]
  },
  {
   "cell_type": "code",
   "execution_count": 82,
   "id": "2ec9cce2-0d56-47b3-9a18-db8689cc5e4f",
   "metadata": {},
   "outputs": [
    {
     "data": {
      "image/png": "[encoded data removed]",
      "text/plain": [
       "<Figure size 640x480 with 1 Axes>"
      ]
     },
     "metadata": {},
     "output_type": "display_data"
    }
   ],
   "source": [
    "# Creating a plot to visualize the time spent on the page for each language\n",
    "sns.boxplot(data = df, x = \"language_preferred\", y = \"time_spent_on_the_page\");"
   ]
  },
  {
   "cell_type": "markdown",
   "id": "ed6376dc-58c6-44cd-994d-3755c30be049",
   "metadata": {},
   "source": [
    "The plot shows that the median time spent on the page is very similar across all languages."
   ]
  },
  {
   "cell_type": "markdown",
   "id": "e5fdf0c8",
   "metadata": {
    "id": "e5fdf0c8"
   },
   "source": [
    "#### Performing Visual Analysis"
   ]
  },
  {
   "cell_type": "code",
   "execution_count": 90,
   "id": "6eZJa41eg21n",
   "metadata": {
    "id": "6eZJa41eg21n"
   },
   "outputs": [
    {
     "data": {
      "image/png": "[encoded data removed]",
      "text/plain": [
       "<Figure size 640x480 with 1 Axes>"
      ]
     },
     "metadata": {},
     "output_type": "display_data"
    }
   ],
   "source": [
    "# Visualizing the user's time spent on the old and new landing pages\n",
    "\n",
    "sns.boxplot(data=df,x=\"landing_page\", y=\"time_spent_on_the_page\");"
   ]
  },
  {
   "cell_type": "markdown",
   "id": "8eacfe7e-c894-44d6-989b-622f3a59d1a7",
   "metadata": {},
   "source": [
    "The plot above indicates that users spent more time on the new landing page than the old one."
   ]
  },
  {
   "cell_type": "markdown",
   "id": "56b3dafd",
   "metadata": {
    "id": "56b3dafd"
   },
   "source": [
    "#### Defining the null and alternate hypotheses"
   ]
  },
  {
   "cell_type": "markdown",
   "id": "d2ac77ef",
   "metadata": {
    "id": "d2ac77ef"
   },
   "source": [
    "> $H_0:$ The mean time spent on the new page is the same as the mean time spent on the old page.\n",
    "> \n",
    "> $H_a:$ The mean time spent on the new page is greater then the mean time spent on the old page.\n",
    "\n",
    "Mathematically, the above formulated hypotheses can be written as:\n",
    "\n",
    "> $H_0: \\mu_1 = \\mu_2$\n",
    "> \n",
    "> $H_a: \\mu_1 < \\mu_2$\n",
    "\n",
    "Where:\n",
    "\n",
    ">$\\mu_1$ - is average time spent on the old page\n",
    ">\n",
    ">$\\mu_2$ - is average time spent on the new page"
   ]
  },
  {
   "cell_type": "markdown",
   "id": "c7ee4907",
   "metadata": {
    "id": "c7ee4907"
   },
   "source": [
    "#### Appropriate test"
   ]
  },
  {
   "cell_type": "markdown",
   "id": "2c183cd7",
   "metadata": {
    "id": "2c183cd7"
   },
   "source": [
    "According to data and criterias, let's test if we can use two sample T test.\n",
    "* Continuous data - yes. Time spent is measured on continuous scale\n",
    "* Normally distributed - yes. We can assume the data is normally distributed as according to CLT our sample size is more than 30 and it can be assumed distributed normally.\n",
    "* Independent populations - yes. We were informed that the two samples are independent of each other.\n",
    "* Var - unknown.\n",
    "  \n",
    "We can use two sample T test."
   ]
  },
  {
   "cell_type": "markdown",
   "id": "3f58c9a7",
   "metadata": {
    "id": "3f58c9a7"
   },
   "source": [
    "#### Significance level"
   ]
  },
  {
   "cell_type": "markdown",
   "id": "92d7d7ee",
   "metadata": {
    "id": "92d7d7ee"
   },
   "source": [
    "Significance level were provided at level of $\\alpha=0.05$"
   ]
  },
  {
   "cell_type": "markdown",
   "id": "5fed2eac",
   "metadata": {
    "id": "5fed2eac"
   },
   "source": [
    "#### Preparing data"
   ]
  },
  {
   "cell_type": "code",
   "execution_count": 99,
   "id": "f5a59495",
   "metadata": {
    "id": "f5a59495"
   },
   "outputs": [
    {
     "name": "stdout",
     "output_type": "stream",
     "text": [
      "mean_time_spent_old: 4.532400000000001 \n",
      "mean_time_spent_new: 6.2232 \n",
      "std_old: 2.581974849306046 \n",
      "std_new: 1.8170310387878263\n"
     ]
    }
   ],
   "source": [
    "# Computing sample means and standard deviations for the samples\n",
    "mean_time_spent_old = df[df[\"landing_page\"] == \"old\"][\"time_spent_on_the_page\"].mean()\n",
    "mean_time_spent_new = df[df[\"landing_page\"] == \"new\"][\"time_spent_on_the_page\"].mean()\n",
    "std_old = df[df[\"landing_page\"] == \"old\"][\"time_spent_on_the_page\"].std()\n",
    "std_new = df[df[\"landing_page\"] == \"new\"][\"time_spent_on_the_page\"].std()\n",
    "print(\"mean_time_spent_old:\", mean_time_spent_old,\n",
    "      \"\\nmean_time_spent_new:\", mean_time_spent_new,\n",
    "      \"\\nstd_old:\", std_old,\n",
    "      \"\\nstd_new:\", std_new)"
   ]
  },
  {
   "cell_type": "code",
   "execution_count": 101,
   "id": "048423ab-70c3-456e-b70f-f33c31800e85",
   "metadata": {},
   "outputs": [],
   "source": [
    "# Creating two separate data sets for the time spent on the page for old and new landing pages\n",
    "old_page = df[df['landing_page'] == 'old']['time_spent_on_the_page']\n",
    "new_page = df[df['landing_page'] == 'new']['time_spent_on_the_page']"
   ]
  },
  {
   "cell_type": "markdown",
   "id": "f5c5258d",
   "metadata": {
    "id": "f5c5258d"
   },
   "source": [
    "#### Calculating the p-value"
   ]
  },
  {
   "cell_type": "code",
   "execution_count": 104,
   "id": "fac8594a",
   "metadata": {
    "id": "fac8594a"
   },
   "outputs": [
    {
     "data": {
      "text/plain": [
       "0.0001392381225166549"
      ]
     },
     "execution_count": 104,
     "metadata": {},
     "output_type": "execute_result"
    }
   ],
   "source": [
    "# Computing p-value using two sample T test\n",
    "t_statistic, p_value = stats.ttest_ind(new_page, old_page, equal_var=False, alternative = \"greater\")\n",
    "p_value"
   ]
  },
  {
   "cell_type": "markdown",
   "id": "359b12f8",
   "metadata": {
    "id": "359b12f8"
   },
   "source": [
    "#### Comparing the p-value with $\\alpha$"
   ]
  },
  {
   "cell_type": "code",
   "execution_count": 109,
   "id": "7be47289",
   "metadata": {
    "id": "7be47289"
   },
   "outputs": [
    {
     "name": "stdout",
     "output_type": "stream",
     "text": [
      "p-value 0.0001392381225166549 is less than the level of significance, we reject the null hypothesis.\n"
     ]
    }
   ],
   "source": [
    "# Comparing p-value and alpha and printing the results\n",
    "if p_value < 0.05:\n",
    "    print(f'p-value {p_value} is less than the level of significance, we reject the null hypothesis.')\n",
    "else:\n",
    "    print(f'p-value {p_value} is greater than the level of significance, we fail to reject the null hypothesis.')"
   ]
  },
  {
   "cell_type": "markdown",
   "id": "d9affc84",
   "metadata": {
    "id": "d9affc84"
   },
   "source": [
    "#### Inference"
   ]
  },
  {
   "cell_type": "markdown",
   "id": "6b16dd4b",
   "metadata": {
    "id": "6b16dd4b"
   },
   "source": [
    "Based on the results of two sample T test, the average time spent on the new landing page is more than the average time spent on the existing landing page."
   ]
  },
  {
   "cell_type": "code",
   "execution_count": 114,
   "id": "fd31556b-695c-47a6-a06d-8cbec84187f2",
   "metadata": {},
   "outputs": [
    {
     "data": {
      "image/png": "[encoded data removed]",
      "text/plain": [
       "<Figure size 640x480 with 1 Axes>"
      ]
     },
     "metadata": {},
     "output_type": "display_data"
    }
   ],
   "source": [
    "# Visualizing the conversion rate for new landing page vs old landing page\n",
    "pd.crosstab(df[\"landing_page\"], df[\"converted\"]).plot(kind=\"bar\")\n",
    "plt.legend()\n",
    "plt.show()"
   ]
  },
  {
   "cell_type": "markdown",
   "id": "abba9ada-dc0f-477e-9433-9b3faaa8ef01",
   "metadata": {},
   "source": [
    "The graph above shows that there are more conversions on the new landing page compared to the old landing page."
   ]
  },
  {
   "cell_type": "markdown",
   "id": "1e1349ff-ab17-4b06-b204-5afd06a2a81c",
   "metadata": {},
   "source": [
    "### Defining the null and alternative hypothesis\n",
    "\n",
    "Let $p_1,p_2$ be the proportions of conversions in the old and new landing pages, respectively.\n",
    "\n",
    "We will test if the proportion of conversions is the same between the old and new landing pages.\n",
    "\n",
    "$H_0:p_1=p_2$\n",
    "\n",
    "Or if the proportion of conversions differs between the old and new landing pages.\n",
    "\n",
    "$H_a:p_1 \\neq p_2$"
   ]
  },
  {
   "cell_type": "markdown",
   "id": "d3726e0b-70db-40ca-bd2a-cd48ddeead29",
   "metadata": {},
   "source": [
    "### Selecting appropriate test\n",
    "* Do we have the binomally distributed population - yes.\n",
    "* Do we have a random sampling from the population - yes.\n",
    "* Do we have normal distribution - yes. According to CLT, if our sample size is greater than 30 we can assume it is normally distributed.\n",
    "\n",
    "  ##### For this task, we will use Two Proportion Z-test"
   ]
  },
  {
   "cell_type": "markdown",
   "id": "d3bd197d-838a-411e-bf18-bd647f3e1134",
   "metadata": {},
   "source": [
    "#### Significance level\n",
    "Significance level is α = 0.05."
   ]
  },
  {
   "cell_type": "markdown",
   "id": "3f7ec0c5-9400-4ce9-9efd-41191d250716",
   "metadata": {},
   "source": [
    "#### Preparing the data for test"
   ]
  },
  {
   "cell_type": "code",
   "execution_count": 121,
   "id": "842b0cb6-4c4a-4203-8323-f8b87a0910a8",
   "metadata": {},
   "outputs": [],
   "source": [
    "# Finding the number of converted users for each page (new and old)\n",
    "converted_new_page=df[df[\"group\"] == \"treatment\"][\"converted\"].value_counts()[\"yes\"]\n",
    "converted_old_page=df[df[\"group\"] == \"control\"][\"converted\"].value_counts()[\"yes\"]\n",
    "\n",
    "# Finding the number of users in control and treatment group\n",
    "n_control = df.group.value_counts()[\"control\"] \n",
    "n_treatment = df.group.value_counts()[\"treatment\"]"
   ]
  },
  {
   "cell_type": "markdown",
   "id": "a2c9e67b-8ab3-4a63-8a7a-ec9e3a03daa5",
   "metadata": {},
   "source": [
    "#### Calculating the p-value"
   ]
  },
  {
   "cell_type": "code",
   "execution_count": 123,
   "id": "1e402dc2-e79e-4a83-9edd-8f6d3b05c097",
   "metadata": {},
   "outputs": [
    {
     "data": {
      "text/plain": [
       "0.008026308204056278"
      ]
     },
     "execution_count": 123,
     "metadata": {},
     "output_type": "execute_result"
    }
   ],
   "source": [
    "# Importing the function to perform Two Proportion Z-test\n",
    "from statsmodels.stats.proportion import proportions_ztest\n",
    "\n",
    "# Finding the p-value\n",
    "test_stat, p_value = proportions_ztest([converted_new_page, converted_old_page] , [n_treatment, n_control], alternative =\"larger\")\n",
    "p_value"
   ]
  },
  {
   "cell_type": "code",
   "execution_count": 125,
   "id": "51f95057-d3de-43e0-a98b-55170eacc8e7",
   "metadata": {},
   "outputs": [
    {
     "name": "stdout",
     "output_type": "stream",
     "text": [
      "p-value 0.008026308204056278 is less than the level of significance, we reject the null hypothesis.\n"
     ]
    }
   ],
   "source": [
    "# Comparing p-value and alpha and printing the results\n",
    "if p_value < 0.05:\n",
    "    print(f'p-value {p_value} is less than the level of significance, we reject the null hypothesis.')\n",
    "else:\n",
    "    print(f'p-value {p_value} is greater than the level of significance, we fail to reject the null hypothesis.')"
   ]
  },
  {
   "cell_type": "markdown",
   "id": "3eecdbaa-dcf7-4977-8969-7f911f4a7c79",
   "metadata": {},
   "source": [
    "#### Inferences\n",
    "The conversion rate for the new page is greater than the conversion rate for the old page.\n"
   ]
  },
  {
   "cell_type": "markdown",
   "id": "d49bfa2d",
   "metadata": {
    "id": "d49bfa2d"
   },
   "source": [
    "### Defining if the conversion and preferred language are independent or related?"
   ]
  },
  {
   "cell_type": "code",
   "execution_count": 131,
   "id": "b0e63f17",
   "metadata": {
    "id": "b0e63f17"
   },
   "outputs": [
    {
     "data": {
      "image/png": "[encoded data removed]",
      "text/plain": [
       "<Figure size 640x480 with 1 Axes>"
      ]
     },
     "metadata": {},
     "output_type": "display_data"
    }
   ],
   "source": [
    "# Visualizing the dependency between conversions and language\n",
    "pd.crosstab(df[\"converted\"],df[\"language_preferred\"],normalize=\"index\").plot(kind=\"bar\")\n",
    "plt.legend()\n",
    "plt.show()"
   ]
  },
  {
   "cell_type": "markdown",
   "id": "1d8501fc-69a2-46a8-9334-c084a9efbbfa",
   "metadata": {},
   "source": [
    "Based on the visualization above, it appears that conversions might dependent on the preferred language.\n",
    "\n",
    "Let's test it with hypothesis test."
   ]
  },
  {
   "cell_type": "markdown",
   "id": "c005e17d-6db4-4505-bc39-c08edd1cc6e4",
   "metadata": {},
   "source": [
    "#### Definig the null and alternative hypotesys\n",
    "\n",
    ">$H_0:$ Conversions are independent of the language preferred\n",
    ">\n",
    ">$H_a:$ Conversions are not independent of the language preferred"
   ]
  },
  {
   "cell_type": "markdown",
   "id": "8561bcbb-babb-49f8-bdc6-be6cd6a54bd0",
   "metadata": {},
   "source": [
    "#### Checking if we can use Chi-Square Test for this task\n",
    "\n",
    "* Categorical variables - yes\n",
    "* Expected value of the number of sample observations in each level of the variable is at least 5 - yes, the number of observations in each level is greater than 5.\n",
    "* Random sampling from the population - yes, we are informed that the collected sample is a simple random sample.\n",
    "\n",
    "##### We can use Chi-Square Test for this task"
   ]
  },
  {
   "cell_type": "markdown",
   "id": "8afc9bf6-308c-45d3-8d4b-c17627a7b8d4",
   "metadata": {},
   "source": [
    "#### Significance level \n",
    "As given in the problem statement, we select α = 0.05."
   ]
  },
  {
   "cell_type": "code",
   "execution_count": 140,
   "id": "b2a9a5a4-530e-410d-a927-3ef5d663d74a",
   "metadata": {},
   "outputs": [],
   "source": [
    "# Creating contingency table for the test\n",
    "language_converted = pd.crosstab(df[\"converted\"], df[\"language_preferred\"])"
   ]
  },
  {
   "cell_type": "code",
   "execution_count": 142,
   "id": "27932913-68ec-4629-ae0f-55ad29ae553c",
   "metadata": {},
   "outputs": [
    {
     "name": "stdout",
     "output_type": "stream",
     "text": [
      "p-value: 0.21298887487543447\n"
     ]
    }
   ],
   "source": [
    "# Importing the necessary function to perform Chi-Square Test\n",
    "from scipy.stats import chi2_contingency\n",
    "\n",
    "# Performing Chi-Square test of independence\n",
    "chi2, p_value, dof, expected = chi2_contingency(language_converted)\n",
    "# Printing the p-value\n",
    "print(\"p-value:\", p_value)"
   ]
  },
  {
   "cell_type": "code",
   "execution_count": 144,
   "id": "dbcaaaa0-6c17-43d1-b695-798eaf1edf34",
   "metadata": {},
   "outputs": [
    {
     "name": "stdout",
     "output_type": "stream",
     "text": [
      "p-value 0.21298887487543447 is greater than the level of significance, we fail to reject the null hypothesis.\n"
     ]
    }
   ],
   "source": [
    "# Comparing p-value and alpha and printing the results\n",
    "if p_value < 0.05:\n",
    "    print(f'p-value {p_value} is less than the level of significance, we reject the null hypothesis.')\n",
    "else:\n",
    "    print(f'p-value {p_value} is greater than the level of significance, we fail to reject the null hypothesis.')"
   ]
  },
  {
   "cell_type": "markdown",
   "id": "ee1c5a58-1f23-42ed-abae-da1ab470a6a7",
   "metadata": {},
   "source": [
    "### Inferences\n",
    "The test indicated that we don't have enough evidence to conclude that preferred language and conversion rate are dependent"
   ]
  },
  {
   "cell_type": "markdown",
   "id": "8d585a90",
   "metadata": {
    "id": "8d585a90"
   },
   "source": [
    "### Checking if the time spent on the new page is the same for the different language users."
   ]
  },
  {
   "cell_type": "code",
   "execution_count": 151,
   "id": "1ae77180-4200-4e9b-8027-1e43ec510b49",
   "metadata": {},
   "outputs": [],
   "source": [
    "# Creating a new DataFrame specifically for the treatment group that used the new landing page\n",
    "df_new = df[df[\"landing_page\"] == \"new\"]"
   ]
  },
  {
   "cell_type": "code",
   "execution_count": 155,
   "id": "b422f395",
   "metadata": {
    "id": "b422f395"
   },
   "outputs": [
    {
     "data": {
      "image/png": "[encoded data removed]",
      "text/plain": [
       "<Figure size 800x600 with 1 Axes>"
      ]
     },
     "metadata": {},
     "output_type": "display_data"
    }
   ],
   "source": [
    "# Visualizing the time spent on the new page for each language\n",
    "plt.figure(figsize=(8,6))\n",
    "sns.boxplot(x = \"language_preferred\", y = \"time_spent_on_the_page\", showmeans = True, data = df_new, hue=\"language_preferred\")\n",
    "plt.show()\n"
   ]
  },
  {
   "cell_type": "markdown",
   "id": "1832d763-38f2-48e9-ad9d-4dad713473ee",
   "metadata": {},
   "source": [
    "Based on the visualizations above, it is challenging to determine if the observed differences in time spent on the new page are statistically significant enough to conclude a dependency on the preferred language.\n",
    "\n",
    "Let's calculate the average time for each language group to have more clear picture"
   ]
  },
  {
   "cell_type": "code",
   "execution_count": 158,
   "id": "ba820c92-28ca-4b9a-b833-17a49c0fe4b0",
   "metadata": {},
   "outputs": [
    {
     "data": {
      "text/plain": [
       "language_preferred\n",
       "English    6.663750\n",
       "French     6.196471\n",
       "Spanish    5.835294\n",
       "Name: time_spent_on_the_page, dtype: float64"
      ]
     },
     "execution_count": 158,
     "metadata": {},
     "output_type": "execute_result"
    }
   ],
   "source": [
    "# Calculating the mean time spent on the new page for different languages\n",
    "df_new.groupby([\"language_preferred\"])[\"time_spent_on_the_page\"].mean()"
   ]
  },
  {
   "cell_type": "markdown",
   "id": "8d188930-a5e2-419f-ba7e-737dae33af46",
   "metadata": {},
   "source": [
    "### Defining the null and alternative hypoteses\n",
    "\n",
    "Let's define as $mu_1, mu_2, mu_3$ as means for time spent on the new page for Engish, Spanish and French respectively\n",
    "\n",
    "> $𝐻_0: 𝜇_1=𝜇_2 \\text{ and } 𝜇_1=𝜇_3 \\text{ and } 𝜇_2=𝜇_3$\n",
    ">\n",
    "> $𝐻_a: 𝜇_1\\neq𝜇_2 \\text{ or } 𝜇_1\\neq𝜇_3 \\text{ or } 𝜇_2\\neq𝜇_3$\n",
    "\n"
   ]
  },
  {
   "cell_type": "markdown",
   "id": "89d209c2-3df3-4b4c-a905-f46091872c08",
   "metadata": {},
   "source": [
    "### Levene’s test\n",
    "\n",
    "Let's check if the variances are equal\n",
    "\n",
    "We will test the null hypothesis\n",
    "\n",
    ">$H_0$: All the population variances are equal\n",
    "\n",
    "against the alternative hypothesis\n",
    "\n",
    ">$H_a$: At least one variance is different from the rest"
   ]
  },
  {
   "cell_type": "code",
   "execution_count": 162,
   "id": "1d57a550-43af-4d23-bd6d-b3a13e9896f8",
   "metadata": {},
   "outputs": [
    {
     "name": "stdout",
     "output_type": "stream",
     "text": [
      "P-value: 0.46711357711340173\n"
     ]
    }
   ],
   "source": [
    "# Importing the required function\n",
    "from scipy.stats import levene\n",
    "\n",
    "# Calculating the p-value\n",
    "statistic, p_value = levene(\n",
    "    df_new['time_spent_on_the_page'][df_new['language_preferred'] == \"English\"],\n",
    "    df_new['time_spent_on_the_page'][df_new['language_preferred'] == \"Spanish\"],\n",
    "    df_new['time_spent_on_the_page'][df_new['language_preferred'] == \"French\"]\n",
    ")\n",
    "\n",
    "# Printing results\n",
    "print(\"P-value:\", p_value)"
   ]
  },
  {
   "cell_type": "code",
   "execution_count": 167,
   "id": "ac0b90d6-e7ce-4433-9965-092ea8a4ab07",
   "metadata": {},
   "outputs": [
    {
     "name": "stdout",
     "output_type": "stream",
     "text": [
      "p-value 0.46711357711340173 is greater than the level of significance, we fail to reject the null hypothesis.\n"
     ]
    }
   ],
   "source": [
    "# Comparing p-value and alpha and printing the results\n",
    "if p_value < 0.05:\n",
    "    print(f'p-value {p_value} is less than the level of significance, we reject the null hypothesis.')\n",
    "else:\n",
    "    print(f'p-value {p_value} is greater than the level of significance, we fail to reject the null hypothesis.')"
   ]
  },
  {
   "cell_type": "markdown",
   "id": "02e32cd5-2543-42d7-83f2-5525b62c41e3",
   "metadata": {},
   "source": [
    "Since we failed to reject the null hypothesis we can assume that data variances are equal."
   ]
  },
  {
   "cell_type": "markdown",
   "id": "047f8eb5-3828-4ebf-b0ee-a6616d2ab63b",
   "metadata": {},
   "source": [
    "### Checking One-way ANOVA Test for this task\n",
    "* The populations are normally distributed - yes. By the CLT if the sample size is bigger than 30 we can assume it is normally distributed\n",
    "* Samples are independent simple random samples - yes, we are informed that the collected sample is a simple random sample.\n",
    "* Population variances are equal - yes, the homogeneity of variance assumption is verified using the Levene's test.\n",
    "\n",
    "##### We can use One-way ANOVA Test for this task\n",
    "\n",
    "\n"
   ]
  },
  {
   "cell_type": "markdown",
   "id": "21ddaace-53be-4aca-a8ff-b8c019e703a1",
   "metadata": {},
   "source": [
    "#### Computing p-value"
   ]
  },
  {
   "cell_type": "code",
   "execution_count": 174,
   "id": "e8397b26-3f8d-43d3-8fcf-6a0b5ddca6bc",
   "metadata": {},
   "outputs": [
    {
     "name": "stdout",
     "output_type": "stream",
     "text": [
      "The p-value is 0.43204138694325955\n"
     ]
    }
   ],
   "source": [
    "# Importing the required function for One-way ANOVA Test \n",
    "from scipy.stats import f_oneway\n",
    "\n",
    "# Performing one-way ANOVA test\n",
    "test_stat, p_value = f_oneway( df_new[\"time_spent_on_the_page\"][df_new[\"language_preferred\"] == \"English\"],\n",
    "    df_new[\"time_spent_on_the_page\"][df_new[\"language_preferred\"] == \"Spanish\"],\n",
    "    df_new[\"time_spent_on_the_page\"][df_new[\"language_preferred\"] == \"French\"])\n",
    "print(\"The p-value is \" + str(p_value))"
   ]
  },
  {
   "cell_type": "code",
   "execution_count": 176,
   "id": "8282e64a-b594-4e6b-b1bc-a18ed7acb3c0",
   "metadata": {},
   "outputs": [
    {
     "name": "stdout",
     "output_type": "stream",
     "text": [
      "p-value 0.43204138694325955 is greater than the level of significance, we fail to reject the null hypothesis.\n"
     ]
    }
   ],
   "source": [
    "# Comparing p-value and alpha and printing the results\n",
    "if p_value < 0.05:\n",
    "    print(f'p-value {p_value} is less than the level of significance, we reject the null hypothesis.')\n",
    "else:\n",
    "    print(f'p-value {p_value} is greater than the level of significance, we fail to reject the null hypothesis.')"
   ]
  },
  {
   "cell_type": "markdown",
   "id": "94f8190a-cc62-4ec9-b7d2-fcb282a74481",
   "metadata": {},
   "source": [
    "### Inferences\n",
    "\n",
    "The One-way ANOVA test shows that the preferred language does not make a noticeable difference in how much time users spend on the new landing page."
   ]
  },
  {
   "cell_type": "markdown",
   "id": "3acbc947",
   "metadata": {
    "id": "3acbc947"
   },
   "source": [
    "## Conclusion and Business Recommendations"
   ]
  },
  {
   "cell_type": "markdown",
   "id": "64bc41b3-4bcd-4c0d-a792-24ae2e12af68",
   "metadata": {},
   "source": [
    "#### Based on our analysis of the dataset and testing various hypotheses, we found the following:\n",
    "\n",
    "1. Users spend more time on the new landing page compared to the old one.\n",
    "2. The new landing page converts more users than the old one.\n",
    "3. Preferred language does not significantly impact the time users spend on the landing page.\n",
    "4. Preferred language does not significantly affect the user conversion rate.\n",
    "5. Converted users spent more time on the page compared to non-converted users.\n",
    "\n",
    "#### Recommendations:\n",
    "\n",
    "* Transition to the new landing page.  Since users spend more time on the new landing page and it converts more users than the old one, transitioning all users to the new landing page would likely improve engagement and increase subscriptions.\n",
    "* Since the new landing page effectively improved user interest, consider further developing and enhancing it to increase user engagement and subscriptions even further.\n",
    "* Continue to monitor user behavior and feedback to adapt strategies. Keep monitoring to make sure it aligns with what users like and with new technology."
   ]
  },
  {
   "cell_type": "markdown",
   "id": "U0dAd4i0iCHo",
   "metadata": {
    "id": "U0dAd4i0iCHo"
   },
   "source": [
    "___"
   ]
  }
 ],
 "metadata": {
  "colab": {
   "collapsed_sections": [
    "6970dd99",
    "9d75cfa2",
    "68f3b2c9",
    "fad2de2f",
    "27906576",
    "e5fdf0c8",
    "56b3dafd",
    "c7ee4907",
    "3f58c9a7",
    "5fed2eac",
    "f5c5258d",
    "359b12f8",
    "d9affc84",
    "353e9d24",
    "d49bfa2d",
    "8d585a90",
    "3acbc947"
   ],
   "provenance": []
  },
  "kernelspec": {
   "display_name": "Python 3 (ipykernel)",
   "language": "python",
   "name": "python3"
  },
  "language_info": {
   "codemirror_mode": {
    "name": "ipython",
    "version": 3
   },
   "file_extension": ".py",
   "mimetype": "text/x-python",
   "name": "python",
   "nbconvert_exporter": "python",
   "pygments_lexer": "ipython3",
   "version": "3.11.7"
  }
 },
 "nbformat": 4,
 "nbformat_minor": 5
}
